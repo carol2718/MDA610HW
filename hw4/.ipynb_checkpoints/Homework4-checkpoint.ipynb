{
 "cells": [
  {
   "cell_type": "code",
   "execution_count": 3,
   "metadata": {},
   "outputs": [
    {
     "name": "stdout",
     "output_type": "stream",
     "text": [
      "Please input a string of characters madre\n",
      "erdam\n"
     ]
    }
   ],
   "source": [
    "# asking user for a string\n",
    "name = input(\"Please input a string of characters \")\n",
    "print(name[::-1]) \n"
   ]
  },
  {
   "cell_type": "code",
   "execution_count": 7,
   "metadata": {},
   "outputs": [
    {
     "name": "stdout",
     "output_type": "stream",
     "text": [
      "Please input a number\t4\n",
      "Average of the list = 2.5\n"
     ]
    }
   ],
   "source": [
    "list = [1, 2, 3]\n",
    "num = int(input(\"Please input a number\\t\"))\n",
    "list.append(num)   # add an element to the end\n",
    "def Average(list): \n",
    "    return sum(list) / len(list) \n",
    "average = Average(list) \n",
    "  \n",
    "# Printing average of the list \n",
    "print(\"Average of the list =\", round(average, 2))\n"
   ]
  },
  {
   "cell_type": "code",
   "execution_count": 11,
   "metadata": {},
   "outputs": [
    {
     "name": "stdout",
     "output_type": "stream",
     "text": [
      "Please the radius '(a number)'to Calculate the Area of a circle\t45\n",
      "The area of the circle with radius 45 is: 6361.725123519331\n"
     ]
    }
   ],
   "source": [
    "# import the math module\n",
    "import math\n",
    "dir(math)\n",
    "rad = int(input(\"Please the radius '(a number)'to Calculate the Area of a circle\\t\"))\n",
    "area = (rad**2) * (math.pi)\n",
    "print (\"The area of the circle with radius \" + str(rad) + \" is: \" + str (area))\n",
    "\n"
   ]
  },
  {
   "cell_type": "code",
   "execution_count": 13,
   "metadata": {},
   "outputs": [
    {
     "name": "stdout",
     "output_type": "stream",
     "text": [
      "Please input a number3\n",
      "The Natural logarithm of 3 is: 1.0986122886681098\n",
      "The Common logarithm of 3 is: 0.47712125471966244\n"
     ]
    }
   ],
   "source": [
    "import math \n",
    "\n",
    "x = int(input(\"Please input a number \"))\n",
    "  \n",
    "# Printing the log base e of the number \n",
    "y= (math.log(x)) \n",
    "print (\"The Natural logarithm of \" + str(x) + \" is: \" + str (y))\n",
    "\n",
    "  \n",
    "# Printing the Common Logarithm\n",
    "y = (math.log(x,10)) \n",
    "\n",
    "print (\"The Common logarithm of \" + str(x) + \" is: \" + str (y))"
   ]
  }
 ],
 "metadata": {
  "kernelspec": {
   "display_name": "Python 3",
   "language": "python",
   "name": "python3"
  },
  "language_info": {
   "codemirror_mode": {
    "name": "ipython",
    "version": 3
   },
   "file_extension": ".py",
   "mimetype": "text/x-python",
   "name": "python",
   "nbconvert_exporter": "python",
   "pygments_lexer": "ipython3",
   "version": "3.7.3"
  }
 },
 "nbformat": 4,
 "nbformat_minor": 2
}

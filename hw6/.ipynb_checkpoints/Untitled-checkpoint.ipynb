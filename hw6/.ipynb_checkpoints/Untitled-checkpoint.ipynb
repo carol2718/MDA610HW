{
 "cells": [
  {
   "cell_type": "code",
   "execution_count": null,
   "metadata": {},
   "outputs": [],
   "source": [
    "\n",
    "#Write a function freq to count occurrences of each distinct character in a given string.\n",
    "#The string is passed to the function as an argument. \n",
    "#The function returns a dictionary with each character being the key of an item, \n",
    "#and its frequency being the value of the it\n",
    "def freq(): \n",
    "\n",
    "    st1 = input(\"Enter a string(word)\")\n",
    "  \n",
    "# using dict.get() to get count  \n",
    "# of each element in string  \n",
    "    res = {} \n",
    "  \n",
    "    for keys in st1: \n",
    "        res[keys] = res.get(keys, 0) + 1\n",
    "  \n",
    "# printing result  \n",
    "    print (\"Count of all characters in the word : \\n\" +  str(res)) \n",
    "\n",
    "freq()"
   ]
  },
  {
   "cell_type": "code",
   "execution_count": 6,
   "metadata": {},
   "outputs": [
    {
     "name": "stdout",
     "output_type": "stream",
     "text": [
      "Enter number of elements : 4\n",
      "1.5\n",
      "1.7\n",
      "8\n",
      "5.4\n",
      "[['1.5'], ['1.7'], ['8'], ['5.4']]\n",
      "Maximum of you input : ['8']\n",
      "Minimum of you input : ['1.5']\n"
     ]
    }
   ],
   "source": [
    "\n",
    "#Write a function min_and_max to find the minimum and maximum of a list. The list is passed to the function as an argument.\n",
    "#The function returns both the minimum and maximum. \n",
    "#example integer and float\n",
    "def min_and_max():\n",
    "     # creating an empty list \n",
    "    lst = [ ] \n",
    "    n = int(input(\"Enter number of elements : \")) \n",
    "  \n",
    "    for i in range(0, n): \n",
    "        ele = [input()] \n",
    "        lst.append(ele) \n",
    "      \n",
    "    print(lst) \n",
    "\n",
    "    print(\"Maximum of your input : \",end=\"\") \n",
    "    print (max(lst) ) \n",
    "    print(\"Minimum of your input : \",end=\"\") \n",
    "    print (min(lst) )\n",
    "\n",
    "    \n",
    "min_and_max()\n",
    "\n",
    "\n",
    "\n",
    "\n",
    "\n",
    "\n",
    "\n",
    "\n",
    "\n",
    "\n",
    "\n"
   ]
  },
  {
   "cell_type": "code",
   "execution_count": 31,
   "metadata": {},
   "outputs": [
    {
     "name": "stdout",
     "output_type": "stream",
     "text": [
      "Enter number of elements : 3\n",
      "1\n",
      "2\n",
      "3\n",
      "[['1'], ['2'], ['3']]\n",
      "Maximum of your input : ['3']\n",
      "Minimum of your input : ['1']\n"
     ]
    }
   ],
   "source": [
    "\n",
    "# example as lists of strings.\n",
    "def min_and_max():\n",
    "     # creating an empty list \n",
    "    lst = [ ] \n",
    "    n = int(input(\"Enter number of elements : \")) \n",
    "  \n",
    "    for i in range(0, n): \n",
    "        ele = [input()] \n",
    "        lst.append(ele) \n",
    "      \n",
    "    print(lst) \n",
    "\n",
    "    print(\"Maximum of your input : \",end=\"\") \n",
    "    print (max(lst) ) \n",
    "    print(\"Minimum of your input : \",end=\"\") \n",
    "    print (min(lst) )\n",
    "\n",
    "    \n",
    "min_and_max()\n"
   ]
  },
  {
   "cell_type": "code",
   "execution_count": null,
   "metadata": {},
   "outputs": [],
   "source": [
    "#Write a function cum_sum to compute the cumulative sum of a list. For instance, \n",
    "#the cumulative sum of a list [1, 5, 2, 6] is defined as [1, 6, 8, 14]. \n",
    "#Your function should work with lists of integers/floats as well as lists of strings\n",
    "\n",
    "def cum_sum():\n",
    "    lst = [ ] \n",
    "    total  = 0\n",
    "    sums   = []\n",
    "  \n",
    "    n = int(input(\"Enter number of elements : \")) \n",
    "  \n",
    "    for i in range(0, n): \n",
    "        ele = [input()] \n",
    "        lst.append(ele)\n",
    "    print(lst) \n",
    "    \n",
    "  \n",
    "\n",
    "cum_sum()"
   ]
  },
  {
   "cell_type": "code",
   "execution_count": 41,
   "metadata": {},
   "outputs": [
    {
     "name": "stdout",
     "output_type": "stream",
     "text": [
      "Enter the number of elements in list:3\n",
      "1\n",
      "2\n",
      "3\n"
     ]
    },
    {
     "ename": "TypeError",
     "evalue": "unsupported operand type(s) for +: 'int' and 'list'",
     "output_type": "error",
     "traceback": [
      "\u001b[1;31m---------------------------------------------------------------------------\u001b[0m",
      "\u001b[1;31mTypeError\u001b[0m                                 Traceback (most recent call last)",
      "\u001b[1;32m<ipython-input-41-f550957558bf>\u001b[0m in \u001b[0;36m<module>\u001b[1;34m\u001b[0m\n\u001b[0;32m      4\u001b[0m     \u001b[0melement\u001b[0m\u001b[1;33m=\u001b[0m\u001b[1;33m[\u001b[0m\u001b[0minput\u001b[0m\u001b[1;33m(\u001b[0m\u001b[1;33m)\u001b[0m\u001b[1;33m]\u001b[0m\u001b[1;33m\u001b[0m\u001b[1;33m\u001b[0m\u001b[0m\n\u001b[0;32m      5\u001b[0m     \u001b[0ma\u001b[0m\u001b[1;33m.\u001b[0m\u001b[0mappend\u001b[0m\u001b[1;33m(\u001b[0m\u001b[0melement\u001b[0m\u001b[1;33m)\u001b[0m\u001b[1;33m\u001b[0m\u001b[1;33m\u001b[0m\u001b[0m\n\u001b[1;32m----> 6\u001b[1;33m \u001b[0mb\u001b[0m\u001b[1;33m=\u001b[0m\u001b[1;33m[\u001b[0m\u001b[0msum\u001b[0m\u001b[1;33m(\u001b[0m\u001b[0ma\u001b[0m\u001b[1;33m[\u001b[0m\u001b[1;36m0\u001b[0m\u001b[1;33m:\u001b[0m\u001b[0mx\u001b[0m\u001b[1;33m+\u001b[0m\u001b[1;36m1\u001b[0m\u001b[1;33m]\u001b[0m\u001b[1;33m)\u001b[0m \u001b[1;32mfor\u001b[0m \u001b[0mx\u001b[0m \u001b[1;32min\u001b[0m \u001b[0mrange\u001b[0m\u001b[1;33m(\u001b[0m\u001b[1;36m0\u001b[0m\u001b[1;33m,\u001b[0m\u001b[0mlen\u001b[0m\u001b[1;33m(\u001b[0m\u001b[0ma\u001b[0m\u001b[1;33m)\u001b[0m\u001b[1;33m)\u001b[0m\u001b[1;33m]\u001b[0m\u001b[1;33m\u001b[0m\u001b[1;33m\u001b[0m\u001b[0m\n\u001b[0m\u001b[0;32m      7\u001b[0m \u001b[0mprint\u001b[0m\u001b[1;33m(\u001b[0m\u001b[1;34m\"The original list is: \"\u001b[0m\u001b[1;33m,\u001b[0m\u001b[0ma\u001b[0m\u001b[1;33m)\u001b[0m\u001b[1;33m\u001b[0m\u001b[1;33m\u001b[0m\u001b[0m\n\u001b[0;32m      8\u001b[0m \u001b[0mprint\u001b[0m\u001b[1;33m(\u001b[0m\u001b[1;34m\"The new list is: \"\u001b[0m\u001b[1;33m,\u001b[0m\u001b[0mb\u001b[0m\u001b[1;33m)\u001b[0m\u001b[1;33m\u001b[0m\u001b[1;33m\u001b[0m\u001b[0m\n",
      "\u001b[1;32m<ipython-input-41-f550957558bf>\u001b[0m in \u001b[0;36m<listcomp>\u001b[1;34m(.0)\u001b[0m\n\u001b[0;32m      4\u001b[0m     \u001b[0melement\u001b[0m\u001b[1;33m=\u001b[0m\u001b[1;33m[\u001b[0m\u001b[0minput\u001b[0m\u001b[1;33m(\u001b[0m\u001b[1;33m)\u001b[0m\u001b[1;33m]\u001b[0m\u001b[1;33m\u001b[0m\u001b[1;33m\u001b[0m\u001b[0m\n\u001b[0;32m      5\u001b[0m     \u001b[0ma\u001b[0m\u001b[1;33m.\u001b[0m\u001b[0mappend\u001b[0m\u001b[1;33m(\u001b[0m\u001b[0melement\u001b[0m\u001b[1;33m)\u001b[0m\u001b[1;33m\u001b[0m\u001b[1;33m\u001b[0m\u001b[0m\n\u001b[1;32m----> 6\u001b[1;33m \u001b[0mb\u001b[0m\u001b[1;33m=\u001b[0m\u001b[1;33m[\u001b[0m\u001b[0msum\u001b[0m\u001b[1;33m(\u001b[0m\u001b[0ma\u001b[0m\u001b[1;33m[\u001b[0m\u001b[1;36m0\u001b[0m\u001b[1;33m:\u001b[0m\u001b[0mx\u001b[0m\u001b[1;33m+\u001b[0m\u001b[1;36m1\u001b[0m\u001b[1;33m]\u001b[0m\u001b[1;33m)\u001b[0m \u001b[1;32mfor\u001b[0m \u001b[0mx\u001b[0m \u001b[1;32min\u001b[0m \u001b[0mrange\u001b[0m\u001b[1;33m(\u001b[0m\u001b[1;36m0\u001b[0m\u001b[1;33m,\u001b[0m\u001b[0mlen\u001b[0m\u001b[1;33m(\u001b[0m\u001b[0ma\u001b[0m\u001b[1;33m)\u001b[0m\u001b[1;33m)\u001b[0m\u001b[1;33m]\u001b[0m\u001b[1;33m\u001b[0m\u001b[1;33m\u001b[0m\u001b[0m\n\u001b[0m\u001b[0;32m      7\u001b[0m \u001b[0mprint\u001b[0m\u001b[1;33m(\u001b[0m\u001b[1;34m\"The original list is: \"\u001b[0m\u001b[1;33m,\u001b[0m\u001b[0ma\u001b[0m\u001b[1;33m)\u001b[0m\u001b[1;33m\u001b[0m\u001b[1;33m\u001b[0m\u001b[0m\n\u001b[0;32m      8\u001b[0m \u001b[0mprint\u001b[0m\u001b[1;33m(\u001b[0m\u001b[1;34m\"The new list is: \"\u001b[0m\u001b[1;33m,\u001b[0m\u001b[0mb\u001b[0m\u001b[1;33m)\u001b[0m\u001b[1;33m\u001b[0m\u001b[1;33m\u001b[0m\u001b[0m\n",
      "\u001b[1;31mTypeError\u001b[0m: unsupported operand type(s) for +: 'int' and 'list'"
     ]
    }
   ],
   "source": [
    "a=[]\n",
    "n= int(input(\"Enter the number of elements in list:\"))\n",
    "for x in range(0,n):\n",
    "    element=[input()] \n",
    "    a.append(element)\n",
    "b=[sum(a[0:x+1]) for x in range(0,len(a))]\n",
    "print(\"The original list is: \",a)\n",
    "print(\"The new list is: \",b)"
   ]
  },
  {
   "cell_type": "code",
   "execution_count": 40,
   "metadata": {},
   "outputs": [
    {
     "name": "stdout",
     "output_type": "stream",
     "text": [
      "Enter the number of elements in list:3\n",
      "Enter element1:1\n",
      "Enter element2:2\n",
      "Enter element3:3\n",
      "The original list is:  [1, 2, 3]\n",
      "The new list is:  [1, 3, 6]\n"
     ]
    }
   ],
   "source": [
    "a=[]\n",
    "n= int(input(\"Enter the number of elements in list:\"))\n",
    "for x in range(0,n):\n",
    "    element=int(input(\"Enter element\" + str(x+1) + \":\"))\n",
    "    a.append(element)\n",
    "b=[sum(a[0:x+1]) for x in range(0,len(a))]\n",
    "print(\"The original list is: \",a)\n",
    "print(\"The new list is: \",b)\n",
    "\n",
    "\n",
    "\n",
    "\n",
    "   "
   ]
  },
  {
   "cell_type": "markdown",
   "metadata": {},
   "source": [
    "# 3## "
   ]
  }
 ],
 "metadata": {
  "kernelspec": {
   "display_name": "Python 3",
   "language": "python",
   "name": "python3"
  },
  "language_info": {
   "codemirror_mode": {
    "name": "ipython",
    "version": 3
   },
   "file_extension": ".py",
   "mimetype": "text/x-python",
   "name": "python",
   "nbconvert_exporter": "python",
   "pygments_lexer": "ipython3",
   "version": "3.7.3"
  }
 },
 "nbformat": 4,
 "nbformat_minor": 2
}

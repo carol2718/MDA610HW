{
 "cells": [
  {
   "cell_type": "code",
   "execution_count": 23,
   "metadata": {},
   "outputs": [
    {
     "name": "stdout",
     "output_type": "stream",
     "text": [
      "Enter a numeric grade:200\n",
      "LETTER GRADE IS: F\n"
     ]
    }
   ],
   "source": [
    "### Ask the user to input a numeric grade. Then output the corresponding letter grade.\n",
    "grade = ''\n",
    "\n",
    "global ngrade\n",
    "ngrade = int(input('Enter a numeric grade:'))\n",
    "\n",
    "def get_letter_grade() :\n",
    "    global grade\n",
    "    \n",
    "    if 90 <= ngrade <= 100:\n",
    "        grade = 'A'\n",
    "    elif 80 <= ngrade <= 89:\n",
    "        grade = 'B'\n",
    "    elif 70 <= ngrade <= 79:\n",
    "        grade = 'C'\n",
    "    elif 60 <= ngrade <= 69:\n",
    "        grade = 'D'\n",
    "    else:\n",
    "        grade = 'F'\n",
    "        return grade\n",
    "get_letter_grade()\n",
    "print ('LETTER GRADE IS: ' + str(grade)  ) \n"
   ]
  },
  {
   "cell_type": "code",
   "execution_count": 33,
   "metadata": {},
   "outputs": [],
   "source": [
    "### For two given lists, construct a new list that contains the elements common to both lists.\n",
    "\n",
    "def common_element(a, b): \n",
    "    a_set = set(a) \n",
    "    b_set = set(b) \n",
    "    \n",
    "    if (a_set & b_set): \n",
    "        print(a_set & b_set) \n",
    "    else: \n",
    "        print(\"No common elements\")  \n",
    "        \n",
    "a = [1, 2, 3, 4, 5] \n",
    "b = [5, 6, 7, 8, 9] \n",
    "common_member(a, b) \n",
    "\n",
    "           "
   ]
  },
  {
   "cell_type": "code",
   "execution_count": 203,
   "metadata": {},
   "outputs": [
    {
     "name": "stdout",
     "output_type": "stream",
     "text": [
      "1 2 3 4 5 \n",
      "\n",
      "2 4 6 8 10 \n",
      "\n",
      "3 6 9 12 15 \n",
      "\n",
      "4 8 12 16 20 \n",
      "\n"
     ]
    }
   ],
   "source": [
    "### using  for loops\n",
    "\n",
    "list = [1,2,3,4,5] \n",
    ">>> for i in range(1,5): \n",
    "    #  for j in list:\n",
    "        for j in list:\n",
    "            print(i * j , end=' ') \n",
    "            \n",
    "        print(\"\\n\")\n"
   ]
  },
  {
   "cell_type": "code",
   "execution_count": 210,
   "metadata": {},
   "outputs": [
    {
     "name": "stdout",
     "output_type": "stream",
     "text": [
      "200,202,204,206,208,220,222,224,226,228,240,242,244,246,248,260,262,264,266,268,280,282,284,286,288,400\n"
     ]
    }
   ],
   "source": [
    "###Output the numbers between 100 and 400 (both included) \n",
    "###where all three digits of a number are even. The numbers printed out are separated by commas\n",
    "\n",
    "numbers = []\n",
    "for i in range(100, 401):\n",
    "    s = str(i)\n",
    "    if (int(s[0])%2==0) and (int(s[1])%2==0) and (int(s[2])%2==0):\n",
    "        numbers.append(s)\n",
    "print( \",\".join(numbers))"
   ]
  },
  {
   "cell_type": "code",
   "execution_count": 211,
   "metadata": {},
   "outputs": [
    {
     "name": "stdout",
     "output_type": "stream",
     "text": [
      "Counter({'c': 400, 'b': 320, 'a': 250, 'e': 60, 'd': 10})\n"
     ]
    }
   ],
   "source": [
    "\n",
    "\n",
    "from collections import Counter \n",
    "  \n",
    "# initializing two dictionaries \n",
    "dict1 = {'a': 200, 'b': 300, 'c': 400} \n",
    "dict2 = {'a': 50, 'b': 20, 'd': 10, 'e': 60} \n",
    "  \n",
    "  \n",
    "# adding the values with common key         \n",
    "Cdict = Counter(dict1) + Counter(dict2) \n",
    "print(Cdict)"
   ]
  },
  {
   "cell_type": "code",
   "execution_count": 212,
   "metadata": {},
   "outputs": [
    {
     "name": "stdout",
     "output_type": "stream",
     "text": [
      "{'a': 250, 'b': 320, 'd': 10, 'e': 60}\n"
     ]
    }
   ],
   "source": [
    "###Combine two dictionaries into one. If a key exists in both dictionaries, then add the values together.\n",
    "#second way\n",
    "dict1 = {'a': 200, 'b': 300, 'c': 400} \n",
    "dict2 = {'a': 50, 'b': 20, 'd': 10, 'e': 60} \n",
    "  \n",
    "  \n",
    "# adding the values with common key \n",
    "for key in dict2: \n",
    "    if key in dict1: \n",
    "        dict2[key] = dict2[key] + dict1[key] \n",
    "    else: \n",
    "        pass\n",
    "          \n",
    "print(dict2) "
   ]
  },
  {
   "cell_type": "code",
   "execution_count": null,
   "metadata": {},
   "outputs": [],
   "source": []
  }
 ],
 "metadata": {
  "kernelspec": {
   "display_name": "Python 3",
   "language": "python",
   "name": "python3"
  },
  "language_info": {
   "codemirror_mode": {
    "name": "ipython",
    "version": 3
   },
   "file_extension": ".py",
   "mimetype": "text/x-python",
   "name": "python",
   "nbconvert_exporter": "python",
   "pygments_lexer": "ipython3",
   "version": "3.7.3"
  }
 },
 "nbformat": 4,
 "nbformat_minor": 2
}

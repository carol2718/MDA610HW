{
 "cells": [
  {
   "cell_type": "code",
   "execution_count": 12,
   "metadata": {},
   "outputs": [
    {
     "name": "stdout",
     "output_type": "stream",
     "text": [
      "{'Mean': 9.0, 'StDev': 4.242640687119285, 'Variance': 18.0}\n"
     ]
    }
   ],
   "source": [
    "##Write a function to compute the mean, (sample) variance and (sample) standard deviation of a list of floating-point numbers passed to the function. \n",
    "##The function returns a dictionary that maps a set of keys to the above descriptive statistic values.\n",
    "\n",
    "\n",
    "import numpy as np\n",
    "def msv(lst):\n",
    "\n",
    "\n",
    "#     print(\"\\nOriginal array:\")\n",
    "#     print(lst)\n",
    "    rm = np.mean(lst)\n",
    "    r2 = np.average(lst) ###calcularing the mean in 2 ways\n",
    "    assert np.allclose(rm, r2) ### checking the result if both are equal or very close then continue\n",
    "#     print(\"\\nMean: \", r1)\n",
    "    rs = np.std(lst)\n",
    "    r2 = np.sqrt(np.mean((lst - np.mean(lst)) ** 2 ))  ###calcularing the standard dev in 2 ways\n",
    "    assert np.allclose(rs, r2)  ###checking the result if both are equal or very close then continue, we can calculate one time but Im making sure\n",
    "#     print(\"\\nstd: \", rs)\n",
    "    rv= np.var(lst)\n",
    "    r2 = np.mean((lst - np.mean(lst)) ** 2 )\n",
    "    assert np.allclose(rv, r2)\n",
    "#     print(\"\\nvariance: \", rv)\n",
    "    Dict = {'Mean': rm , 'StDev' : rs, 'Variance':rv} \n",
    "    print(Dict) \n",
    "\n",
    "\n",
    "msv([3,6,9,12,15])\n"
   ]
  },
  {
   "cell_type": "code",
   "execution_count": 48,
   "metadata": {},
   "outputs": [
    {
     "name": "stdout",
     "output_type": "stream",
     "text": [
      "Please enter a number 3\n",
      "Please enter a number: 6\n",
      "Please enter a number: 9\n",
      "Please enter a number: 12\n",
      "Please enter a number: 15\n",
      "Please enter a number: stop\n",
      "[3, 6, 9, 12, 15]\n",
      "\n",
      "Mean:  9.0\n"
     ]
    }
   ],
   "source": [
    "\n",
    "import statistics \n",
    "def calmn ():\n",
    "    numList = []\n",
    "    x= 0\n",
    "\n",
    "    nms = int(input('Please enter a number '))\n",
    "\n",
    "    while nms != 'stop':\n",
    "        numList.append(int(nms)) ##int type\n",
    "       \n",
    "        nms = input('Please enter a number: ')\n",
    "\n",
    "\n",
    "    \n",
    "    print(numList)\n",
    "    y =   sum(numList)/len(numList)\n",
    "    print(\"\\nMean: \", y)\n",
    "\n",
    "calmn()"
   ]
  }
 ],
 "metadata": {
  "kernelspec": {
   "display_name": "Python 3",
   "language": "python",
   "name": "python3"
  },
  "language_info": {
   "codemirror_mode": {
    "name": "ipython",
    "version": 3
   },
   "file_extension": ".py",
   "mimetype": "text/x-python",
   "name": "python",
   "nbconvert_exporter": "python",
   "pygments_lexer": "ipython3",
   "version": "3.7.3"
  }
 },
 "nbformat": 4,
 "nbformat_minor": 2
}

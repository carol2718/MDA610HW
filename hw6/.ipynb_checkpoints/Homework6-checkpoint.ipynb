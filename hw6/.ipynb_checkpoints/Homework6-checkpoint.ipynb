{
 "cells": [
  {
   "cell_type": "code",
   "execution_count": 71,
   "metadata": {},
   "outputs": [
    {
     "name": "stdout",
     "output_type": "stream",
     "text": [
      "Enter a string(word)university\n",
      "Count of all characters in the word : \n",
      "{'u': 1, 'n': 1, 'i': 2, 'v': 1, 'e': 1, 'r': 1, 's': 1, 't': 1, 'y': 1}\n"
     ]
    }
   ],
   "source": [
    "\n",
    "#Write a function freq to count occurrences of each distinct character in a given string.\n",
    "#The string is passed to the function as an argument. \n",
    "#The function returns a dictionary with each character being the key of an item, \n",
    "#and its frequency being the value of the it\n",
    "def freq(): \n",
    "\n",
    "    st1 = input(\"Enter a string(word)\")\n",
    "  \n",
    "# using dict.get() to get count  \n",
    "# of each element in string  \n",
    "    res = {} \n",
    "  \n",
    "    for keys in st1: \n",
    "        res[keys] = res.get(keys, 0) + 1\n",
    "  \n",
    "# printing result  \n",
    "    print (\"Count of all characters in the word : \\n\" +  str(res)) \n",
    "\n",
    "freq()"
   ]
  },
  {
   "cell_type": "code",
   "execution_count": 72,
   "metadata": {},
   "outputs": [
    {
     "name": "stdout",
     "output_type": "stream",
     "text": [
      "Enter number of elements : 3\n",
      "2\n",
      "5\n",
      "7\n",
      "['2', '5', '7']\n",
      "Maximum of your input : 7\n",
      "Minimum of your input : 2\n"
     ]
    }
   ],
   "source": [
    "\n",
    "#Write a function min_and_max to find the minimum and maximum of a list. The list is passed to the function as an argument.\n",
    "#The function returns both the minimum and maximum. \n",
    "#example integer and float\n",
    "def min_and_max():\n",
    "     # creating an empty list \n",
    "    lst = [ ] \n",
    "    n = int(input(\"Enter number of elements : \")) \n",
    "  \n",
    "    for i in range(0, n): \n",
    "        ele = input()\n",
    "        lst.append(ele) \n",
    "      \n",
    "    print(lst) \n",
    "\n",
    "    print(\"Maximum of your input : \",end=\"\") \n",
    "    print (max(lst) ) \n",
    "    print(\"Minimum of your input : \",end=\"\") \n",
    "    print (min(lst) )\n",
    "\n",
    "    \n",
    "min_and_max()\n",
    "\n",
    "\n",
    "\n",
    "\n",
    "\n",
    "\n",
    "\n",
    "\n",
    "\n",
    "\n",
    "\n"
   ]
  },
  {
   "cell_type": "code",
   "execution_count": 7,
   "metadata": {},
   "outputs": [
    {
     "name": "stdout",
     "output_type": "stream",
     "text": [
      "Enter number of elements : 3\n",
      "car\n",
      "ccar2\n",
      "ccaer2\n",
      "['car', 'ccar2', 'ccaer2']\n",
      "Maximum of your input : ccar2\n",
      "Minimum of your input : car\n"
     ]
    }
   ],
   "source": [
    "\n",
    "# example as lists of strings.\n",
    "def min_and_max():\n",
    "     # creating an empty list \n",
    "    lst = [ ] \n",
    "    n = int(input(\"Enter number of elements : \")) \n",
    "  \n",
    "    for i in range(0, n): \n",
    "        ele = input()\n",
    "        lst.append(ele) \n",
    "      \n",
    "    print(lst) \n",
    "\n",
    "    print(\"Maximum of your input : \",end=\"\") \n",
    "    print (max(lst) ) \n",
    "    print(\"Minimum of your input : \",end=\"\") \n",
    "    print (min(lst) )\n",
    "\n",
    "    \n",
    "min_and_max()\n"
   ]
  },
  {
   "cell_type": "code",
   "execution_count": 59,
   "metadata": {},
   "outputs": [
    {
     "name": "stdout",
     "output_type": "stream",
     "text": [
      "[1, 3, 6, 10]\n"
     ]
    }
   ],
   "source": [
    "#Write a function cum_sum to compute the cumulative sum of a list. For instance, \n",
    "#the cumulative sum of a list [1, 5, 2, 6] is defined as [1, 6, 8, 14]. \n",
    "#Your function should work with lists of integers/floats as well as lists of strings\n",
    "\n",
    "def cum_sum(lst):\n",
    "    cs = []\n",
    "    for x in range(0,len(lst)):\n",
    "        temp = 0\n",
    "        for y in range(x+1):\n",
    "            temp += lst[y]\n",
    "        cs.append(temp)\n",
    "    return cs\n",
    "\n",
    "print(cum_sum([1,2,3,4]))\n",
    "\n"
   ]
  },
  {
   "cell_type": "code",
   "execution_count": 5,
   "metadata": {},
   "outputs": [],
   "source": [
    "\n",
    "\n",
    "def cum_sum (list1,list2):\n",
    "    sum_list=[]\n",
    "    for i in range (0, len(list1)): \n",
    "        return [list1[i]+ list2[i]for i in range (len(list1))]\n",
    "\n",
    "    "
   ]
  },
  {
   "cell_type": "code",
   "execution_count": 7,
   "metadata": {},
   "outputs": [
    {
     "data": {
      "text/plain": [
       "['doggyred', 'kittywhite', 'chickenblack']"
      ]
     },
     "execution_count": 7,
     "metadata": {},
     "output_type": "execute_result"
    }
   ],
   "source": [
    "cum_sum ((\"doggy\", \"kitty\", \"chicken\"), (\"red\", \"white\", \"black\"))"
   ]
  },
  {
   "cell_type": "code",
   "execution_count": 70,
   "metadata": {},
   "outputs": [
    {
     "data": {
      "text/plain": [
       "22"
      ]
     },
     "execution_count": 70,
     "metadata": {},
     "output_type": "execute_result"
    }
   ],
   "source": [
    "## Write a function dot that takes two lists of equal length as arguments, and returns the inner product of the two lists.\n",
    "#For instance, the inner product of two lists [1, 5, 2, 6] and [0, 2, 3, 1] is evaluated as (1)(0)+(5)(2)+(2)(3)+(6)(1) = 22.\n",
    "\n",
    "def dot(vect_A, vect_B): \n",
    "  \n",
    "    product = 0\n",
    "  \n",
    "    # Loop for calculate cot product \n",
    "    for i in range(0, len(vect_A)): \n",
    "        product = product + vect_A[i] * vect_B[i] \n",
    "  \n",
    "    return product \n",
    "dot([1, 5, 2, 6],[0, 2, 3, 1]) "
   ]
  }
 ],
 "metadata": {
  "kernelspec": {
   "display_name": "Python 3",
   "language": "python",
   "name": "python3"
  },
  "language_info": {
   "codemirror_mode": {
    "name": "ipython",
    "version": 3
   },
   "file_extension": ".py",
   "mimetype": "text/x-python",
   "name": "python",
   "nbconvert_exporter": "python",
   "pygments_lexer": "ipython3",
   "version": "3.7.3"
  }
 },
 "nbformat": 4,
 "nbformat_minor": 2
}
